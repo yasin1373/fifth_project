{
 "cells": [
  {
   "cell_type": "code",
   "execution_count": null,
   "id": "c7ebb498",
   "metadata": {},
   "outputs": [],
   "source": [
    "from scipy.signal import filtfilt\n",
    "from scipy import stats\n",
    "import pandas as pd\n",
    "import numpy as np\n",
    "import matplotlib.pyplot as plt\n",
    "import scipy"
   ]
  },
  {
   "cell_type": "code",
   "execution_count": null,
   "id": "bc34c66e",
   "metadata": {},
   "outputs": [],
   "source": [
    "def bandpassfilter(signal):\n",
    "    fs=100\n",
    "    # normalise cut-off frequencies to sampling frequency\n",
    "    lowcut=4/(100/2)\n",
    "    highcut=25/(100/2)\n",
    "    # create bandpass filter for EMG\n",
    "    b,a=scipy.signal.butter(2,[lowcut,highcut],btype='bandpass')\n",
    "    emg_filtered=filtfilt(b,a,signal,axis=0)\n",
    "    return emg_filtered"
   ]
  },
  {
   "cell_type": "code",
   "execution_count": null,
   "id": "2592afd6",
   "metadata": {},
   "outputs": [],
   "source": [
    "def plot():\n",
    "    # reading csv file\n",
    "    data=pd.read_csv(r'C:\\Users\\acer\\Desktop\\all_squat\\squat1.csv')\n",
    "    # extracting EMG data\n",
    "    sensor_data=data[['Unnamed: 365']]\n",
    "    # converting into array\n",
    "    sensor_data=np.array(sensor_data)\n",
    "    # defining time array\n",
    "    time = np.array([i/100 for i in range(0, len(sensor_data), 1)])\n",
    "    plt.plot(time,sensor_data)\n",
    "    plt.show()\n",
    "    # process EMG signal: remove mean\n",
    "    emg_correctmean = sensor_data - np.mean(sensor_data)\n",
    "    plt.plot(time,emg_correctmean)\n",
    "    plt.show()\n",
    "    # process EMG signal: filter EMG\n",
    "    filtered_signal=bandpassfilter(emg_correctmean)\n",
    "    plt.plot(time,filtered_signal)\n",
    "    plt.show()\n",
    "    # process EMG signal: rectify\n",
    "    emg_rectified = abs(filtered_signal)\n",
    "    plt.plot(time,emg_rectified)\n",
    "    plt.show()\n",
    "    # create lowpass filter and apply to rectified signal to get EMG envelope\n",
    "    lowcut=1/(100/2)\n",
    "    b1,a1=scipy.signal.butter(2,lowcut,btype='lowpass')\n",
    "    emg_envelope=filtfilt(b1,a1,emg_rectified,axis=0)\n",
    "    plt.plot(time,emg_envelope)\n",
    "    plt.show()\n",
    "    # create a csv file from EMG envelope array\n",
    "    DF = pd.DataFrame(emg_envelope)\n",
    "    DF.to_csv(r\"C:\\Users\\acer\\Desktop\\emg_envelope.csv\")\n",
    "plot()    "
   ]
  },
  {
   "cell_type": "code",
   "execution_count": null,
   "id": "9f7899ad",
   "metadata": {},
   "outputs": [],
   "source": []
  }
 ],
 "metadata": {
  "kernelspec": {
   "display_name": "Python 3 (ipykernel)",
   "language": "python",
   "name": "python3"
  },
  "language_info": {
   "codemirror_mode": {
    "name": "ipython",
    "version": 3
   },
   "file_extension": ".py",
   "mimetype": "text/x-python",
   "name": "python",
   "nbconvert_exporter": "python",
   "pygments_lexer": "ipython3",
   "version": "3.9.12"
  }
 },
 "nbformat": 4,
 "nbformat_minor": 5
}
